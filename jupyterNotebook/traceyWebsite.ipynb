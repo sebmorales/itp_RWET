{
 "cells": [
  {
   "cell_type": "markdown",
   "metadata": {},
   "source": [
    "### Tracery Self Generated HTML"
   ]
  },
  {
   "cell_type": "code",
   "execution_count": 6,
   "metadata": {
    "collapsed": true
   },
   "outputs": [],
   "source": [
    "import tracery"
   ]
  },
  {
   "cell_type": "code",
   "execution_count": 5,
   "metadata": {},
   "outputs": [
    {
     "data": {
      "text/plain": [
       "'world@nyu.edu'"
      ]
     },
     "execution_count": 5,
     "metadata": {},
     "output_type": "execute_result"
    }
   ],
   "source": [
    "rules={\n",
    "    \"email\":\"#name#@#domain#.#domainType#\",\n",
    "    \"name\":[\"galaxy\",\"world\",\"solar\",\"tiri\", \"seb\"],\n",
    "    \"domain\":[\"gmail\",\"yahoo\",\"nyu\",\"chess\"],\n",
    "    \"domainType\":[\"com\",\"edu\",\"io\",\"cc\",\"net\"]\n",
    "}\n",
    "grammar=tracery.Grammar(rules)\n",
    "grammar.flatten(\"#email#\")"
   ]
  },
  {
   "cell_type": "markdown",
   "metadata": {},
   "source": [
    "### [Corpora first Names](https://github.com/dariusk/corpora/blob/master/data/humans/firstNames.json)"
   ]
  },
  {
   "cell_type": "code",
   "execution_count": 16,
   "metadata": {
    "collapsed": true
   },
   "outputs": [],
   "source": [
    "import json"
   ]
  },
  {
   "cell_type": "code",
   "execution_count": 33,
   "metadata": {},
   "outputs": [],
   "source": [
    "first_names= json.loads((open(\"text_examples/CorporaFirstNames.json\").read()))"
   ]
  },
  {
   "cell_type": "markdown",
   "metadata": {},
   "source": [
    "### [Corpora Last Names](https://github.com/dariusk/corpora/blob/master/data/humans/lastNames.json)"
   ]
  },
  {
   "cell_type": "code",
   "execution_count": 34,
   "metadata": {},
   "outputs": [],
   "source": [
    "last_names= json.loads((open(\"text_examples/CorporaLastNames.json\").read()))"
   ]
  },
  {
   "cell_type": "code",
   "execution_count": 8,
   "metadata": {
    "collapsed": true
   },
   "outputs": [],
   "source": [
    "from tracery.modifiers import base_english"
   ]
  },
  {
   "cell_type": "code",
   "execution_count": 32,
   "metadata": {},
   "outputs": [
    {
     "data": {
      "text/plain": [
       "'tyler.alvarez@nyu.edu'"
      ]
     },
     "execution_count": 32,
     "metadata": {},
     "output_type": "execute_result"
    }
   ],
   "source": [
    "rules={\n",
    "    \"email\":\"#first.lowercase#.#last.lowercase#@#domain#.#domainType#\",\n",
    "    \"first\":first_names,\n",
    "    \"last\":lastNames,\n",
    "    \"domain\":[\"gmail\",\"yahoo\",\"nyu\",\"chess\",\"whaterver\"],\n",
    "    \"domainType\":[\"com\",\"edu\",\"io\",\"cc\",\"net\",\"xyz\",\"xxx\",\"org\"]\n",
    "}\n",
    "grammar=tracery.Grammar(rules)\n",
    "grammar.add_modifiers(base_english)\n",
    "grammar.flatten(\"#email#\")"
   ]
  },
  {
   "cell_type": "code",
   "execution_count": 35,
   "metadata": {
    "collapsed": true
   },
   "outputs": [],
   "source": [
    "tech= json.loads((open(\"text_examples/CorporaTechNames.json\").read()))"
   ]
  },
  {
   "cell_type": "code",
   "execution_count": 86,
   "metadata": {},
   "outputs": [
    {
     "name": "stdout",
     "output_type": "stream",
     "text": [
      "gianna.pierce@wolfram language.io\n",
      "eli.mills@heroku.xxx\n",
      "alexandra.snyder@xtags.net\n",
      "elizabeth.rivera@objective-c.ai\n",
      "josiah.mcdonald@javascript.cc\n",
      "brooklyn.hamilton@middleman.edu\n",
      "delaney.hall@nltk.gov\n",
      "hayden.ellis@webrick.io\n",
      "bryson.howard@lisp.gov\n",
      "charles.west@kickstarter.io\n"
     ]
    }
   ],
   "source": [
    "rules={\n",
    "    \"email\":\"#first.lowercase#.#last.lowercase#@#domain.lowercase#.#domainType#\",\n",
    "    \"first\":firstNames,\n",
    "    \"last\":lastNames,\n",
    "    \"domain\":tech,\n",
    "    \"domainType\":[\"com\",\"edu\",\"io\",\"cc\",\"net\",\"xyz\",\"xxx\",\"org\",\"gov\",\"ai\",\"com\",\"com\",\"me\"]\n",
    "}\n",
    "grammar=tracery.Grammar(rules)\n",
    "grammar.add_modifiers(base_english)\n",
    "for i in range(10):\n",
    "    print(grammar.flatten(\"#email#\"))\n"
   ]
  },
  {
   "cell_type": "markdown",
   "metadata": {},
   "source": [
    "---\n",
    "## Routes"
   ]
  },
  {
   "cell_type": "code",
   "execution_count": 36,
   "metadata": {},
   "outputs": [
    {
     "name": "stdout",
     "output_type": "stream",
     "text": [
      "symbiosis.live/NLTK\n",
      "symbiosis.live/Java/MarkDown/Perl\n",
      "symbiosis.live/Cassandra-Rspec.png\n",
      "symbiosis.live/MarkDown-Javascript/SpoonRocket-Heroku/Amazon.php\n",
      "symbiosis.live/GoogleMaps-Netflix-Cassandra\n",
      "symbiosis.live/Bower/Silverlight/Canvas\n",
      "symbiosis.live/HTML5\n",
      "symbiosis.live/UbuWeb-PushNotifications\n",
      "symbiosis.live/Twilio/MarkDown/Lisp\n",
      "symbiosis.live/AppleScript/Yelp/Flash\n"
     ]
    }
   ],
   "source": [
    "rules={\n",
    "    \"url\":[\"symbiosis.live/#routes#\",\"symbiosis.live/#routes#\",\"symbiosis.live/#routes#.#type#\"],\n",
    "    \"routes\":[\"#route#\",\"#route#-#route#\",\"#route#/#route#/#route#\"],\n",
    "    \"route\":[\"#techNames#\", \"#techNames#\",\"#techNames#\",\"#routes#\",],\n",
    "    \"techNames\":tech,\n",
    "    \"type\":[\"pdf\",\"php\",\"html\",\"img\",\"png\",\"html\",\"php\"]\n",
    "}\n",
    "grammar=tracery.Grammar(rules)\n",
    "for i in range(10):\n",
    "    print(grammar.flatten(\"#url#\"))\n"
   ]
  },
  {
   "cell_type": "markdown",
   "metadata": {},
   "source": [
    "### Phone numbers"
   ]
  },
  {
   "cell_type": "code",
   "execution_count": 52,
   "metadata": {},
   "outputs": [
    {
     "name": "stdout",
     "output_type": "stream",
     "text": [
      "(671)-237-4259\n",
      "288-242-8821\n",
      "567 561 9617\n",
      "215-876-8784\n",
      "(351)-351-5637\n",
      "138 174 2588\n",
      "584-342-4446\n",
      "784 121 9326\n",
      "134-236-9486\n",
      "498.945.7336\n"
     ]
    }
   ],
   "source": [
    "rules={\n",
    "    \"phone\":[\"#n##n##n#.#n##n##n#.#n##n##n##n#\",\"#n##n##n# #n##n##n# #n##n##n##n#\",\"#n##n##n#-#n##n##n#-#n##n##n##n#\",\"(#n##n##n#)-#n##n##n#-#n##n##n##n#\"],\n",
    "    \"n\":[\"1\",\"2\",\"3\",\"4\",\"5\",\"6\",\"7\",\"8\",\"9\"]\n",
    "}\n",
    "grammar=tracery.Grammar(rules)\n",
    "for i in range(10):\n",
    "    print(grammar.flatten(\"#phone#\"))\n",
    "\n"
   ]
  },
  {
   "cell_type": "code",
   "execution_count": 60,
   "metadata": {
    "collapsed": true
   },
   "outputs": [],
   "source": [
    "htmlHead=\"<!DOCTYPE html PUBLIC \\\"-//W3C//DTD XHTML 1.1//EN\\\" \\\"http://www.w3.org/TR/xhtml11/DTD/xhtml11.dtd\\\"><html xmlns=\\\"http://www.w3.org/1999/xhtml\\\">\\n<head>\\n<meta http-equiv=\\\"Content-Type\\\" content=\\\"text/html; charset=utf-8\\\" />\\n<link rel=\\\"stylesheet\\\" type=\\\"text/css\\\" href=\\\"style.css\\\" />\""
   ]
  },
  {
   "cell_type": "code",
   "execution_count": 61,
   "metadata": {},
   "outputs": [
    {
     "name": "stdout",
     "output_type": "stream",
     "text": [
      "<!DOCTYPE html PUBLIC \"-//W3C//DTD XHTML 1.1//EN\" \"http://www.w3.org/TR/xhtml11/DTD/xhtml11.dtd\"><html xmlns=\"http://www.w3.org/1999/xhtml\">\n",
      "<head>\n",
      "<meta http-equiv=\"Content-Type\" content=\"text/html; charset=utf-8\" />\n",
      "<link rel=\"stylesheet\" type=\"text/css\" href=\"style.css\" />\n"
     ]
    }
   ],
   "source": [
    "print (htmlHead)"
   ]
  },
  {
   "cell_type": "code",
   "execution_count": 92,
   "metadata": {
    "collapsed": true
   },
   "outputs": [],
   "source": [
    "mainTextWiki=\"\"\"Holden, formally known as General Motors Holden, is an Australian automobile importer and a former automobile manufacturer with its headquarters in Port Melbourne, Victoria. The company was founded in 1856 as a saddlery manufacturer in South Australia. In 1908 it moved into the automotive field, becoming a subsidiary of the United States-based General Motors (GM) in 1931, when the company was renamed General Motors-Holden's Ltd. It was renamed Holden Ltd in 1998, and General Motors Holden in 2005.\n",
    "\n",
    "Holden sells the remaining stock of the locally produced range of Commodore vehicles, and imported GM models. Holden has offered badge engineered models in sharing arrangements with Chevrolet, Isuzu, Nissan, Opel, Suzuki, Toyota and Vauxhall Motors. In 2013 the vehicle lineup consisted of models from GM Korea, GM Thailand, GM in the US, and self-developed Commodore, Caprice, and Ute. Holden also distributed the European Opel brand in Australia in 2012 until the Opel brand's Australian demise in mid-2013.[1]\n",
    "\n",
    "From 1994 to 2017, all Australian-built Holden vehicles were manufactured in Elizabeth, South Australia, and engines were produced at the Fishermans Bend plant in Melbourne. Historically, production or assembly plants were operated in all mainland states of Australia. The consolidation of car production at Elizabeth was completed in 1988, but some assembly operations continued at Dandenong until 1994.\"\"\""
   ]
  },
  {
   "cell_type": "code",
   "execution_count": 93,
   "metadata": {},
   "outputs": [
    {
     "name": "stdout",
     "output_type": "stream",
     "text": [
      "Holden, formally known as General Motors Holden, is an Australian automobile importer and a former automobile manufacturer with its headquarters in Port Melbourne, Victoria. The company was founded in 1856 as a saddlery manufacturer in South Australia. In 1908 it moved into the automotive field, becoming a subsidiary of the United States-based General Motors (GM) in 1931, when the company was renamed General Motors-Holden's Ltd. It was renamed Holden Ltd in 1998, and General Motors Holden in 2005.\n",
      "\n",
      "Holden sells the remaining stock of the locally produced range of Commodore vehicles, and imported GM models. Holden has offered badge engineered models in sharing arrangements with Chevrolet, Isuzu, Nissan, Opel, Suzuki, Toyota and Vauxhall Motors. In 2013 the vehicle lineup consisted of models from GM Korea, GM Thailand, GM in the US, and self-developed Commodore, Caprice, and Ute. Holden also distributed the European Opel brand in Australia in 2012 until the Opel brand's Australian demise in mid-2013.[1]\n",
      "\n",
      "From 1994 to 2017, all Australian-built Holden vehicles were manufactured in Elizabeth, South Australia, and engines were produced at the Fishermans Bend plant in Melbourne. Historically, production or assembly plants were operated in all mainland states of Australia. The consolidation of car production at Elizabeth was completed in 1988, but some assembly operations continued at Dandenong until 1994.\n"
     ]
    }
   ],
   "source": [
    "print(mainTextWiki)"
   ]
  },
  {
   "cell_type": "code",
   "execution_count": 95,
   "metadata": {},
   "outputs": [
    {
     "name": "stdout",
     "output_type": "stream",
     "text": [
      "<!DOCTYPE html PUBLIC \"-//W3C//DTD XHTML 1.1//EN\" \"http://www.w3.org/TR/xhtml11/DTD/xhtml11.dtd\"><html xmlns=\"http://www.w3.org/1999/xhtml\">\n",
      "<head>\n",
      "<meta http-equiv=\"Content-Type\" content=\"text/html; charset=utf-8\" />\n",
      "<link rel=\"stylesheet\" type=\"text/css\" href=\"style.css\" /><title>this is the title</title>\n",
      "</head>\n",
      "\n",
      "<body bgcolor=1A3D99>\n",
      "<div id=\"page\">\n",
      "<div id=\"header\">\n",
      "<ul>\n",
      "<li><a href=\"/Drupal-Foursquare\">GoogleDocs<a/></li>\n",
      "<li><a href=\"/AppleScript-Rust\">SQS<a/></li>\n",
      "<li><a href=\"/CodePipeline/HacketyHack/ActiveRecord/Scheme/Diaspora-Tumblr\">OpenCV<a/></li>\n",
      "<li><a href=\"/Polymer/ImageMagick/NLTK/YouTube/Python-SpoonRocket\">Bundler<a/></li></ul>\n",
      "<h1>Flickr</h1>\n",
      "</div><div class=\"dotted_line\"></div>\n",
      "<div id=\"main\">\n",
      "<div class=\"main_left\">\n",
      "<img scr=\"/Express-Bootstrap/Emacs/Diaspora\" alt=\"by Braden Stevens at https://symbiosis.live\"/>\n",
      "<h1>PushNotifications will save us</h1>\n",
      "<h3>in Webaudio you should have faith, Cucumber will save us all</h3>\n",
      "</div>\n",
      "<div class=\"main_right\">\n",
      "<h2>Skylar Kennedy and Solr</h2>\n",
      "<p>Holden, formally known as General Motors Holden, is an Australian automobile importer and a former automobile manufacturer with its headquarters in Port Melbourne, Victoria. The company was founded in 1856 as a saddlery manufacturer in South Australia. In 1908 it moved into the automotive field, becoming a subsidiary of the United States-based General Motors (GM) in 1931, when the company was renamed General Motors-Holden's Ltd. It was renamed Holden Ltd in 1998, and General Motors Holden in 2005.\n",
      "\n",
      "Holden sells the remaining stock of the locally produced range of Commodore vehicles, and imported GM models. Holden has offered badge engineered models in sharing arrangements with Chevrolet, Isuzu, Nissan, Opel, Suzuki, Toyota and Vauxhall Motors. In 2013 the vehicle lineup consisted of models from GM Korea, GM Thailand, GM in the US, and self-developed Commodore, Caprice, and Ute. Holden also distributed the European Opel brand in Australia in 2012 until the Opel brand's Australian demise in mid-2013.\n",
      "\n",
      "From 1994 to 2017, all Australian-built Holden vehicles were manufactured in Elizabeth, South Australia, and engines were produced at the Fishermans Bend plant in Melbourne. Historically, production or assembly plants were operated in all mainland states of Australia. The consolidation of car production at Elizabeth was completed in 1988, but some assembly operations continued at Dandenong until 1994.</p>\n",
      "</div>\n",
      "<div class=\"main_bottom\"></div>\n",
      "</div>\n",
      "<div class=\"dotted_line\"></div>\n",
      "<div id=\"footer>\n",
      "<p>\n",
      "<a href=\"https://symbiosis.live/Mocha\"> website design. Contact: jason.harris@scratch.com\n",
      "(163)-721-8312.</a></p>\n",
      "</div>\n",
      "</div>\n",
      "\n",
      "</body>\n",
      "</html>\n"
     ]
    }
   ],
   "source": [
    "rules={\n",
    "    \"html\":\"#head#<title>#title#</title>\\n</head>\\n\\n#body#\\n</html>\",\n",
    "    \"head\":htmlHead,\n",
    "    \"title\":\"this is the title\",\n",
    "    \"body\":\"<body bgcolor=#hxn##hxn##hxn##hxn##hxn##hxn#>\\n#pageDiv#\\n#\\n</body>\",\n",
    "    \"pageDiv\":\"<div id=\\\"page\\\">\\n<div id=\\\"header\\\">\\n<ul>#pageTab##pageTab##pageTab##pageTab#</ul>\\n<h1>#techNames#</h1>\\n</div>#divDotLine#<div class=\\\"dotted_line\\\"></div>\\n#footer#\",\n",
    "    \"pageTab\":\"\\n<li><a href=\\\"#link#\\\">#techNames#<a/></li>\",\n",
    "    \"divDotLine\":\"<div class=\\\"dotted_line\\\"></div>\\n<div id=\\\"main\\\">\\n<div class=\\\"main_left\\\">\\n<img scr=\\\"#imglink#\\\" alt=\\\"by #firstN# #lastN# at https://symbiosis.live\\\"/>\\n<h1>#techNames# will save us</h1>\\n<h3>in #techNames# you should have faith, #techNames# will save us all</h3>\\n</div>\\n#divmainR#\",\n",
    "    \"divmainR\":\"<div class=\\\"main_right\\\">\\n<h2>#firstN# #lastN# and #techNames#</h2>\\n<p>#mainText#</p>\\n</div>\\n<div class=\\\"main_bottom\\\"></div>\\n</div>\\n\",\n",
    "    \"footer\":\"<div id=\\\"footer\\>\\n<p>\\n<a href=\\\"https://symbiosis.live#link#\\\"> website design. Contact: #email#\\n#phone#.</a></p>\\n</div>\\n</div>\",\n",
    "    \"hxn\":['0','1','2','3','4','5','6','7','8','9','A','B','C','D','E','F'],\n",
    "    \"link\":[\"/#routes#\",\"/#routes#\",\"/#routes#.#type#\"],\n",
    "    \"imglink\":[\"/#routes#\",\"/#routes#\",\"/#routes#.png\"],\n",
    "    \"routes\":[\"#route#\",\"#route#-#route#\",\"#route#/#route#/#route#\"],\n",
    "    \"route\":[\"#techNames#\", \"#techNames#\",\"#techNames#\",\"#routes#\",],\n",
    "    \"type\":[\"pdf\",\"php\",\"html\",\"img\",\"png\",\"html\",\"php\"],\n",
    "    \"techNames\":tech,\n",
    "    \"firstN\":firstNames,\n",
    "    \"lastN\":lastNames,\n",
    "    \"mainText\":mainTextWiki,\n",
    "    \"phone\":[\"#n##n##n#.#n##n##n#.#n##n##n##n#\",\"#n##n##n# #n##n##n# #n##n##n##n#\",\"#n##n##n#-#n##n##n#-#n##n##n##n#\",\"(#n##n##n#)-#n##n##n#-#n##n##n##n#\"],\n",
    "    \"n\":[\"1\",\"2\",\"3\",\"4\",\"5\",\"6\",\"7\",\"8\",\"9\"],\n",
    "    \"email\":\"#firstN.lowercase#.#lastN.lowercase#@#domain.lowercase#.#domainType#\",\n",
    "    \"domain\":tech,\n",
    "    \"domainType\":[\"com\",\"edu\",\"io\",\"cc\",\"net\",\"xyz\",\"xxx\",\"org\",\"gov\",\"ai\",\"com\",\"com\",\"me\"]\n",
    "    \n",
    "}\n",
    "grammar=tracery.Grammar(rules)\n",
    "grammar.add_modifiers(base_english)\n",
    "file = open('index.html', 'w')\n",
    "file.write(grammar.flatten(\"#html#\"))\n",
    "file.close()\n",
    "print(grammar.flatten(\"#html#\"))"
   ]
  },
  {
   "cell_type": "code",
   "execution_count": null,
   "metadata": {
    "collapsed": true
   },
   "outputs": [],
   "source": []
  }
 ],
 "metadata": {
  "kernelspec": {
   "display_name": "Python 3",
   "language": "python",
   "name": "python3"
  },
  "language_info": {
   "codemirror_mode": {
    "name": "ipython",
    "version": 3
   },
   "file_extension": ".py",
   "mimetype": "text/x-python",
   "name": "python",
   "nbconvert_exporter": "python",
   "pygments_lexer": "ipython3",
   "version": "3.6.3"
  }
 },
 "nbformat": 4,
 "nbformat_minor": 2
}
